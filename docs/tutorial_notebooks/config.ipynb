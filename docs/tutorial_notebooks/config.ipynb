{
 "cells": [
  {
   "cell_type": "markdown",
   "id": "f9e1eec8-56fe-4a88-ad69-1842e250b820",
   "metadata": {},
   "source": [
    "# Config"
   ]
  },
  {
   "cell_type": "markdown",
   "id": "b1773686-d79e-4627-a6a3-6ff90b79b49a",
   "metadata": {},
   "source": [
    "## Under construction"
   ]
  },
  {
   "cell_type": "code",
   "execution_count": null,
   "id": "4b998813-96b4-4953-9e2c-af7a9b34e1de",
   "metadata": {},
   "outputs": [],
   "source": []
  }
 ],
 "metadata": {
  "kernelspec": {
   "display_name": "madness",
   "language": "python",
   "name": "madness"
  },
  "language_info": {
   "codemirror_mode": {
    "name": "ipython",
    "version": 3
   },
   "file_extension": ".py",
   "mimetype": "text/x-python",
   "name": "python",
   "nbconvert_exporter": "python",
   "pygments_lexer": "ipython3",
   "version": "3.8.13"
  }
 },
 "nbformat": 4,
 "nbformat_minor": 5
}
