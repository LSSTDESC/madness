{
 "cells": [
  {
   "cell_type": "markdown",
   "id": "bace1dbd-78a2-47e0-9d21-4a426c1e8e04",
   "metadata": {},
   "source": [
    "# Training"
   ]
  },
  {
   "cell_type": "markdown",
   "id": "f42b76f1-0639-4936-acbc-ae3d5e4ee616",
   "metadata": {},
   "source": [
    "## Load modules"
   ]
  },
  {
   "cell_type": "code",
   "execution_count": null,
   "id": "9aece3ca-81c8-467e-836b-c17e311d269c",
   "metadata": {},
   "outputs": [],
   "source": [
    "import os\n",
    "\n",
    "import numpy as np\n",
    "import tensorflow as tf\n",
    "import tensorflow_probability as tfp\n",
    "\n",
    "from maddeb.callbacks import define_callbacks\n",
    "from maddeb.FlowVAEnet import FlowVAEnet\n",
    "from maddeb.losses import deblender_encoder_loss_wrapper, deblender_loss_fn_wrapper\n",
    "from maddeb.utils import get_data_dir_path\n",
    "\n",
    "tfd = tfp.distributions"
   ]
  },
  {
   "cell_type": "markdown",
   "id": "827ca078-1f23-4b6e-84b4-2acd3f349a0b",
   "metadata": {},
   "source": [
    "## Creating toy data"
   ]
  },
  {
   "cell_type": "code",
   "execution_count": null,
   "id": "523543de-4634-43ce-934d-a8ca792a72ff",
   "metadata": {},
   "outputs": [],
   "source": [
    "isolated_noisy_galaxies = np.random.rand(8, 11, 11, 6)\n",
    "noiseless_galaxies = np.random.rand(8, 11, 11, 6)\n",
    "blended_galaxies = np.random.rand(8, 11, 11, 6)"
   ]
  },
  {
   "cell_type": "markdown",
   "id": "50af5d0d-8fe6-42b1-b509-5de14451f866",
   "metadata": {},
   "source": [
    "## Define the model"
   ]
  },
  {
   "cell_type": "code",
   "execution_count": null,
   "id": "c0227d7d-1770-4428-a6bd-e707bb718825",
   "metadata": {},
   "outputs": [],
   "source": [
    "kl_prior = tfd.Independent(\n",
    "    tfd.Normal(loc=tf.zeros(1), scale=1), reinterpreted_batch_ndims=1\n",
    ")\n",
    "\n",
    "f_net = FlowVAEnet(\n",
    "    stamp_shape=11,\n",
    "    latent_dim=4,\n",
    "    filters_encoder=[1, 1, 1, 1],\n",
    "    filters_decoder=[1, 1, 1],\n",
    "    kernels_encoder=[1, 1, 1, 1],\n",
    "    kernels_decoder=[1, 1, 1],\n",
    "    dense_layer_units=1,\n",
    "    num_nf_layers=1,\n",
    "    kl_prior=kl_prior,\n",
    "    kl_weight=1,\n",
    ")"
   ]
  },
  {
   "cell_type": "markdown",
   "id": "da8bbe40-1f49-41ef-b228-ea50ddd75f23",
   "metadata": {},
   "source": [
    "## Train VAE as a denoiser"
   ]
  },
  {
   "cell_type": "code",
   "execution_count": null,
   "id": "affb2b1e-086d-470b-97e7-0eb2fc1c24b5",
   "metadata": {},
   "outputs": [
    {
     "name": "stdout",
     "output_type": "stream",
     "text": [
      "Model: \"model\"\n",
      "_________________________________________________________________\n",
      " Layer (type)                Output Shape              Param #   \n",
      "=================================================================\n",
      " input_5 (InputLayer)        [(None, 11, 11, 6)]       0         \n",
      "                                                                 \n",
      " encoder (Functional)        (None, 14)                95        \n",
      "                                                                 \n",
      " latent_space (MultivariateN  ((None, 4),              0         \n",
      " ormalTriL)                   (None, 4))                         \n",
      "                                                                 \n",
      " decoder (Functional)        (None, 11, 11, 6)         686       \n",
      "                                                                 \n",
      "=================================================================\n",
      "Total params: 781\n",
      "Trainable params: 781\n",
      "Non-trainable params: 0\n",
      "_________________________________________________________________\n"
     ]
    },
    {
     "name": "stderr",
     "output_type": "stream",
     "text": [
      "\n",
      "--- Training only VAE network ---\n",
      "Encoder status: True\n",
      "Decoder status: True\n",
      "Number of epochs: 1\n"
     ]
    },
    {
     "name": "stdout",
     "output_type": "stream",
     "text": [
      "\n",
      "Epoch 1: val_mse improved from inf to 0.32158, saving model to /pbs/throng/lsst/users/bbiswas/FlowDeblender/maddeb/data/test_temp/vae/val_mse/weights.ckpt\n",
      "\n",
      "Epoch 1: val_loss improved from inf to 137.18494, saving model to /pbs/throng/lsst/users/bbiswas/FlowDeblender/maddeb/data/test_temp/vae/val_loss/weights.ckpt\n",
      "1/1 - 8s - loss: 140.7427 - mse: 0.3327 - kl_metric: 0.6108 - val_loss: 137.1849 - val_mse: 0.3216 - val_kl_metric: 1.4766 - lr: 4.0000e-06 - 8s/epoch - 8s/step\n"
     ]
    }
   ],
   "source": [
    "vae_epochs = 2\n",
    "\n",
    "data = np.random.rand(8, 11, 11, 6)\n",
    "\n",
    "# Keras Callbacks\n",
    "data_path = get_data_dir_path()\n",
    "\n",
    "path_weights = os.path.join(data_path, \"test_temp\")\n",
    "callbacks = define_callbacks(\n",
    "    os.path.join(path_weights, \"vae\"),\n",
    "    lr_scheduler_epochs=1,\n",
    "    patience=1,\n",
    ")\n",
    "\n",
    "_ = f_net.train_vae(\n",
    "    (isolated_noisy_galaxies[:6], noiseless_galaxies[:6]),  # training\n",
    "    (isolated_noisy_galaxies[6:], noiseless_galaxies[6:]),  # validation\n",
    "    callbacks=callbacks,\n",
    "    epochs=int(0.5 * vae_epochs),\n",
    "    train_encoder=True,\n",
    "    train_decoder=True,\n",
    "    track_kl=True,\n",
    "    optimizer=tf.keras.optimizers.Adam(1e-5, clipvalue=0.1),\n",
    "    loss_function=deblender_loss_fn_wrapper(\n",
    "        sigma_cutoff=np.array([1] * 6),  # Noise level in the data\n",
    "        linear_norm_coeff=1,  # coefficient of linear normalization\n",
    "    ),\n",
    "    verbose=2,\n",
    "    # loss_function=vae_loss_fn_wrapper(sigma=noise_sigma, linear_norm_coeff=linear_norm_coeff),\n",
    ")"
   ]
  },
  {
   "cell_type": "markdown",
   "id": "112e015b-eb56-46c4-9b31-02598bb57f11",
   "metadata": {},
   "source": [
    "## Train Normalizing Flow"
   ]
  },
  {
   "cell_type": "code",
   "execution_count": null,
   "id": "30fe6bc7-65a5-418e-96c3-192cb47c0d4a",
   "metadata": {},
   "outputs": [],
   "source": [
    "f_net.load_vae_weights(os.path.join(path_weights, \"vae\", \"val_loss\"))"
   ]
  },
  {
   "cell_type": "code",
   "execution_count": null,
   "id": "3e6db623-162e-4caa-b7b2-866fb9e36521",
   "metadata": {},
   "outputs": [
    {
     "name": "stdout",
     "output_type": "stream",
     "text": [
      "Model: \"model_1\"\n",
      "_________________________________________________________________\n",
      " Layer (type)                Output Shape              Param #   \n",
      "=================================================================\n",
      " input_5 (InputLayer)        [(None, 11, 11, 6)]       0         \n",
      "                                                                 \n",
      " encoder (Functional)        (None, 14)                95        \n",
      "                                                                 \n",
      " latent_space (MultivariateN  ((None, 4),              0         \n",
      " ormalTriL)                   (None, 4))                         \n",
      "                                                                 \n",
      " flow (Functional)           (None,)                   1480      \n",
      "                                                                 \n",
      "=================================================================\n",
      "Total params: 1,575\n",
      "Trainable params: 1,480\n",
      "Non-trainable params: 95\n",
      "_________________________________________________________________\n"
     ]
    },
    {
     "name": "stderr",
     "output_type": "stream",
     "text": [
      "\n",
      "--- Training only FLOW network ---\n",
      "Number of epochs: 2\n"
     ]
    },
    {
     "name": "stdout",
     "output_type": "stream",
     "text": [
      "Epoch 1/2\n"
     ]
    },
    {
     "name": "stderr",
     "output_type": "stream",
     "text": [
      "2024-03-20 21:49:40.467868: I tensorflow/compiler/xla/service/service.cc:173] XLA service 0x7f5650044350 initialized for platform Host (this does not guarantee that XLA will be used). Devices:\n",
      "2024-03-20 21:49:40.467924: I tensorflow/compiler/xla/service/service.cc:181]   StreamExecutor device (0): Host, Default Version\n",
      "2024-03-20 21:49:40.491523: I tensorflow/compiler/jit/xla_compilation_cache.cc:477] Compiled cluster using XLA!  This line is logged at most once for the lifetime of the process.\n"
     ]
    },
    {
     "name": "stdout",
     "output_type": "stream",
     "text": [
      "WARNING:tensorflow:Can save best model only with val_mse available, skipping.\n"
     ]
    },
    {
     "name": "stderr",
     "output_type": "stream",
     "text": [
      "Can save best model only with val_mse available, skipping.\n"
     ]
    },
    {
     "name": "stdout",
     "output_type": "stream",
     "text": [
      "\n",
      "Epoch 1: val_loss improved from inf to 5.78013, saving model to /pbs/throng/lsst/users/bbiswas/FlowDeblender/maddeb/data/test_temp/flow/val_loss/weights.ckpt\n",
      "1/1 - 5s - loss: 5.7525 - val_loss: 5.7801 - lr: 4.0000e-05 - 5s/epoch - 5s/step\n",
      "Epoch 2/2\n",
      "WARNING:tensorflow:Can save best model only with val_mse available, skipping.\n"
     ]
    },
    {
     "name": "stderr",
     "output_type": "stream",
     "text": [
      "Can save best model only with val_mse available, skipping.\n"
     ]
    },
    {
     "name": "stdout",
     "output_type": "stream",
     "text": [
      "\n",
      "Epoch 2: val_loss improved from 5.78013 to 5.42270, saving model to /pbs/throng/lsst/users/bbiswas/FlowDeblender/maddeb/data/test_temp/flow/val_loss/weights.ckpt\n",
      "1/1 - 0s - loss: 5.7437 - val_loss: 5.4227 - lr: 1.6000e-05 - 133ms/epoch - 133ms/step\n"
     ]
    }
   ],
   "source": [
    "flow_epochs = 2\n",
    "\n",
    "callbacks = define_callbacks(\n",
    "    os.path.join(path_weights, \"flow\"),\n",
    "    lr_scheduler_epochs=1,\n",
    "    patience=1,\n",
    ")\n",
    "\n",
    "hist_flow = f_net.train_flow(\n",
    "    (\n",
    "        isolated_noisy_galaxies[:6],\n",
    "        np.zeros_like(isolated_noisy_galaxies[:6]),\n",
    "    ),  # training\n",
    "    (\n",
    "        isolated_noisy_galaxies[6:],\n",
    "        np.zeros_like(isolated_noisy_galaxies[6:]),\n",
    "    ),  # validation\n",
    "    callbacks=callbacks,\n",
    "    optimizer=tf.keras.optimizers.Adam(1e-4, clipvalue=0.01),\n",
    "    epochs=flow_epochs,\n",
    "    verbose=2,\n",
    ")"
   ]
  },
  {
   "cell_type": "markdown",
   "id": "cd7f859e-15e5-4238-8c85-721e82db52b8",
   "metadata": {},
   "source": [
    "## Train VAE-deblender"
   ]
  },
  {
   "cell_type": "code",
   "execution_count": null,
   "id": "0f2c31f4-7752-4513-99c0-6a626a342f8c",
   "metadata": {},
   "outputs": [],
   "source": [
    "f_net_original = FlowVAEnet(\n",
    "    stamp_shape=11,\n",
    "    latent_dim=4,\n",
    "    filters_encoder=[1, 1, 1, 1],\n",
    "    filters_decoder=[1, 1, 1],\n",
    "    kernels_encoder=[1, 1, 1, 1],\n",
    "    kernels_decoder=[1, 1, 1],\n",
    "    dense_layer_units=1,\n",
    "    num_nf_layers=1,\n",
    "    kl_prior=kl_prior,\n",
    "    kl_weight=1,\n",
    ")\n",
    "f_net_original.load_vae_weights(os.path.join(path_weights, \"vae\", \"val_loss\"))"
   ]
  },
  {
   "cell_type": "code",
   "execution_count": null,
   "id": "0200364f-c3ad-403b-83f7-eb49e7c7be2a",
   "metadata": {},
   "outputs": [],
   "source": [
    "callbacks = define_callbacks(\n",
    "    os.path.join(path_weights, \"deblender\"),\n",
    "    lr_scheduler_epochs=1,\n",
    "    patience=1,\n",
    ")"
   ]
  },
  {
   "cell_type": "code",
   "execution_count": null,
   "id": "d7c61065-57f3-4538-a574-6ca21528cf3d",
   "metadata": {},
   "outputs": [
    {
     "name": "stdout",
     "output_type": "stream",
     "text": [
      "Model: \"encoder\"\n",
      "_________________________________________________________________\n",
      " Layer (type)                Output Shape              Param #   \n",
      "=================================================================\n",
      " input_1 (InputLayer)        [(None, 11, 11, 6)]       0         \n",
      "                                                                 \n",
      " conv2d (Conv2D)             (None, 6, 6, 1)           7         \n",
      "                                                                 \n",
      " p_re_lu (PReLU)             (None, 6, 6, 1)           36        \n",
      "                                                                 \n",
      " conv2d_1 (Conv2D)           (None, 3, 3, 1)           2         \n",
      "                                                                 \n",
      " p_re_lu_1 (PReLU)           (None, 3, 3, 1)           9         \n",
      "                                                                 \n",
      " conv2d_2 (Conv2D)           (None, 2, 2, 1)           2         \n",
      "                                                                 \n",
      " p_re_lu_2 (PReLU)           (None, 2, 2, 1)           4         \n",
      "                                                                 \n",
      " conv2d_3 (Conv2D)           (None, 1, 1, 1)           2         \n",
      "                                                                 \n",
      " p_re_lu_3 (PReLU)           (None, 1, 1, 1)           1         \n",
      "                                                                 \n",
      " flatten (Flatten)           (None, 1)                 0         \n",
      "                                                                 \n",
      " p_re_lu_4 (PReLU)           (None, 1)                 1         \n",
      "                                                                 \n",
      " dense (Dense)               (None, 1)                 2         \n",
      "                                                                 \n",
      " p_re_lu_5 (PReLU)           (None, 1)                 1         \n",
      "                                                                 \n",
      " dense_1 (Dense)             (None, 14)                28        \n",
      "                                                                 \n",
      "=================================================================\n",
      "Total params: 95\n",
      "Trainable params: 0\n",
      "Non-trainable params: 95\n",
      "_________________________________________________________________\n"
     ]
    },
    {
     "name": "stderr",
     "output_type": "stream",
     "text": [
      "\n",
      "--- Training only encoder network ---\n",
      "Number of epochs: 2\n"
     ]
    },
    {
     "name": "stdout",
     "output_type": "stream",
     "text": [
      "Epoch 1/2\n",
      "WARNING:tensorflow:Can save best model only with val_mse available, skipping.\n"
     ]
    },
    {
     "name": "stderr",
     "output_type": "stream",
     "text": [
      "Can save best model only with val_mse available, skipping.\n"
     ]
    },
    {
     "name": "stdout",
     "output_type": "stream",
     "text": [
      "\n",
      "Epoch 1: val_loss improved from inf to 2.57688, saving model to /pbs/throng/lsst/users/bbiswas/FlowDeblender/maddeb/data/test_temp/deblender/val_loss/weights.ckpt\n",
      "1/1 - 3s - loss: 5.0717 - val_loss: 2.5769 - lr: 4.0000e-06 - 3s/epoch - 3s/step\n",
      "Epoch 2/2\n",
      "WARNING:tensorflow:Can save best model only with val_mse available, skipping.\n"
     ]
    },
    {
     "name": "stderr",
     "output_type": "stream",
     "text": [
      "Can save best model only with val_mse available, skipping.\n"
     ]
    },
    {
     "name": "stdout",
     "output_type": "stream",
     "text": [
      "\n",
      "Epoch 2: val_loss did not improve from 2.57688\n",
      "1/1 - 0s - loss: 4.9084 - val_loss: 3.7430 - lr: 1.6000e-06 - 40ms/epoch - 40ms/step\n"
     ]
    }
   ],
   "source": [
    "hist_deblender = f_net.train_encoder(\n",
    "    (blended_galaxies[:6], isolated_noisy_galaxies[:6]),  # training\n",
    "    (blended_galaxies[6:], isolated_noisy_galaxies[6:]),  # validation\n",
    "    callbacks=callbacks,\n",
    "    epochs=2,\n",
    "    optimizer=tf.keras.optimizers.Adam(1e-5, clipvalue=0.1),\n",
    "    loss_function=deblender_encoder_loss_wrapper(\n",
    "        original_encoder=f_net_original.encoder,\n",
    "        noise_sigma=np.array([1] * 6),\n",
    "        latent_dim=4,\n",
    "    ),\n",
    "    verbose=2,\n",
    "    # loss_function=vae_loss_fn_wrapper(sigma=noise_sigma, linear_norm_coeff=linear_norm_coeff),\n",
    ")"
   ]
  },
  {
   "cell_type": "code",
   "execution_count": null,
   "id": "9963f7b0-967a-4b87-9c4d-4c4afdf06d36",
   "metadata": {},
   "outputs": [],
   "source": []
  }
 ],
 "metadata": {
  "kernelspec": {
   "display_name": "madness",
   "language": "python",
   "name": "madness"
  },
  "language_info": {
   "codemirror_mode": {
    "name": "ipython",
    "version": 3
   },
   "file_extension": ".py",
   "mimetype": "text/x-python",
   "name": "python",
   "nbconvert_exporter": "python",
   "pygments_lexer": "ipython3",
   "version": "3.8.13"
  }
 },
 "nbformat": 4,
 "nbformat_minor": 5
}
